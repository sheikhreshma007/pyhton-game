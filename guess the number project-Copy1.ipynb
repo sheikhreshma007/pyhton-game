{
 "cells": [
  {
   "cell_type": "code",
   "execution_count": 2,
   "id": "5e6ee823-3a60-42b1-83b1-70de52aaf45a",
   "metadata": {},
   "outputs": [
    {
     "name": "stdin",
     "output_type": "stream",
     "text": [
      "guess the target: 6\n"
     ]
    },
    {
     "name": "stdout",
     "output_type": "stream",
     "text": [
      "Your number was too small.Take a bigger guess...\n"
     ]
    },
    {
     "name": "stdin",
     "output_type": "stream",
     "text": [
      "guess the target: 200\n"
     ]
    },
    {
     "name": "stdout",
     "output_type": "stream",
     "text": [
      "Your number was too big .Take a smaller guess...\n"
     ]
    },
    {
     "name": "stdin",
     "output_type": "stream",
     "text": [
      "guess the target: 76\n"
     ]
    },
    {
     "name": "stdout",
     "output_type": "stream",
     "text": [
      "Your number was too big .Take a smaller guess...\n"
     ]
    },
    {
     "name": "stdin",
     "output_type": "stream",
     "text": [
      "guess the target: 56\n"
     ]
    },
    {
     "name": "stdout",
     "output_type": "stream",
     "text": [
      "Your number was too small.Take a bigger guess...\n"
     ]
    },
    {
     "name": "stdin",
     "output_type": "stream",
     "text": [
      "guess the target: 60\n"
     ]
    },
    {
     "name": "stdout",
     "output_type": "stream",
     "text": [
      "Your number was too small.Take a bigger guess...\n"
     ]
    },
    {
     "name": "stdin",
     "output_type": "stream",
     "text": [
      "guess the target: 70\n"
     ]
    },
    {
     "name": "stdout",
     "output_type": "stream",
     "text": [
      "Your number was too small.Take a bigger guess...\n"
     ]
    },
    {
     "name": "stdin",
     "output_type": "stream",
     "text": [
      "guess the target: 75\n"
     ]
    },
    {
     "name": "stdout",
     "output_type": "stream",
     "text": [
      "Your number was too big .Take a smaller guess...\n"
     ]
    },
    {
     "name": "stdin",
     "output_type": "stream",
     "text": [
      "guess the target: 72\n"
     ]
    },
    {
     "name": "stdout",
     "output_type": "stream",
     "text": [
      "Your number was too small.Take a bigger guess...\n"
     ]
    },
    {
     "name": "stdin",
     "output_type": "stream",
     "text": [
      "guess the target: 73\n"
     ]
    },
    {
     "name": "stdout",
     "output_type": "stream",
     "text": [
      "Success:Correct Guess!!\n",
      "-----Game Over-----\n"
     ]
    }
   ],
   "source": [
    "import random\n",
    "\n",
    "target=random.randint(1,100)\n",
    "\n",
    "\n",
    "while True:\n",
    "    userChoice=int(input(\"guess the target:\"))\n",
    "    if(userChoice==target):\n",
    "        print(\"Success:Correct Guess!!\")\n",
    "        break\n",
    "    elif(userChoice<target) :\n",
    "        print(\"Your number was too small.Take a bigger guess...\")\n",
    "    else:\n",
    "        print(\"Your number was too big .Take a smaller guess...\")\n",
    "\n",
    "        \n",
    "print(\"-----Game Over-----\")        "
   ]
  },
  {
   "cell_type": "code",
   "execution_count": null,
   "id": "453e0185-2050-4f2f-8873-49049ce2e7c7",
   "metadata": {},
   "outputs": [],
   "source": []
  },
  {
   "cell_type": "code",
   "execution_count": null,
   "id": "c19fe700-81a6-45ba-9b17-853992a5d937",
   "metadata": {},
   "outputs": [],
   "source": []
  }
 ],
 "metadata": {
  "kernelspec": {
   "display_name": "Python 3 (ipykernel)",
   "language": "python",
   "name": "python3"
  },
  "language_info": {
   "codemirror_mode": {
    "name": "ipython",
    "version": 3
   },
   "file_extension": ".py",
   "mimetype": "text/x-python",
   "name": "python",
   "nbconvert_exporter": "python",
   "pygments_lexer": "ipython3",
   "version": "3.13.5"
  }
 },
 "nbformat": 4,
 "nbformat_minor": 5
}
